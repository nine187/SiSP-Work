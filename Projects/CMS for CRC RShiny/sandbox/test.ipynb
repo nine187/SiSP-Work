{
 "cells": [
  {
   "cell_type": "code",
   "execution_count": 4,
   "id": "49ebcaef",
   "metadata": {},
   "outputs": [
    {
     "ename": "NameError",
     "evalue": "name 'assembler' is not defined",
     "output_type": "error",
     "traceback": [
      "\u001b[1;31m---------------------------------------------------------------------------\u001b[0m",
      "\u001b[1;31mNameError\u001b[0m                                 Traceback (most recent call last)",
      "Cell \u001b[1;32mIn[4], line 5\u001b[0m\n\u001b[0;32m      3\u001b[0m mapk1 \u001b[38;5;241m=\u001b[39m Agent(\u001b[38;5;124m'\u001b[39m\u001b[38;5;124mMAPK1\u001b[39m\u001b[38;5;124m'\u001b[39m, db_refs\u001b[38;5;241m=\u001b[39m{\u001b[38;5;124m'\u001b[39m\u001b[38;5;124mHGNC\u001b[39m\u001b[38;5;124m'\u001b[39m: \u001b[38;5;124m'\u001b[39m\u001b[38;5;124m6871\u001b[39m\u001b[38;5;124m'\u001b[39m})\n\u001b[0;32m      4\u001b[0m stmt \u001b[38;5;241m=\u001b[39m Phosphorylation(map2k1, mapk1, \u001b[38;5;124m'\u001b[39m\u001b[38;5;124mT\u001b[39m\u001b[38;5;124m'\u001b[39m, \u001b[38;5;124m'\u001b[39m\u001b[38;5;124m185\u001b[39m\u001b[38;5;124m'\u001b[39m)\n\u001b[1;32m----> 5\u001b[0m pba \u001b[38;5;241m=\u001b[39m assembler\u001b[38;5;241m.\u001b[39mPybelAssembler([stmt])\n\u001b[0;32m      6\u001b[0m belgraph \u001b[38;5;241m=\u001b[39m pba\u001b[38;5;241m.\u001b[39mmake_model()\n\u001b[0;32m      7\u001b[0m \u001b[38;5;28msorted\u001b[39m(node\u001b[38;5;241m.\u001b[39mas_bel() \u001b[38;5;28;01mfor\u001b[39;00m node \u001b[38;5;129;01min\u001b[39;00m belgraph)\n",
      "\u001b[1;31mNameError\u001b[0m: name 'assembler' is not defined"
     ]
    }
   ],
   "source": [
    "from indra.statements import *\n",
    "map2k1 = Agent('MAP2K1', db_refs={'HGNC': '6840'})\n",
    "mapk1 = Agent('MAPK1', db_refs={'HGNC': '6871'})\n",
    "stmt = Phosphorylation(map2k1, mapk1, 'T', '185')\n",
    "pba = assembler.PybelAssembler([stmt])\n",
    "belgraph = pba.make_model()\n",
    "sorted(node.as_bel() for node in belgraph)"
   ]
  },
  {
   "cell_type": "code",
   "execution_count": 9,
   "id": "59b018de",
   "metadata": {},
   "outputs": [
    {
     "data": {
      "text/plain": [
       "MAPK1()"
      ]
     },
     "execution_count": 9,
     "metadata": {},
     "output_type": "execute_result"
    }
   ],
   "source": [
    "stmt.agent_list()[1]"
   ]
  }
 ],
 "metadata": {
  "kernelspec": {
   "display_name": "Python 3 (ipykernel)",
   "language": "python",
   "name": "python3"
  },
  "language_info": {
   "codemirror_mode": {
    "name": "ipython",
    "version": 3
   },
   "file_extension": ".py",
   "mimetype": "text/x-python",
   "name": "python",
   "nbconvert_exporter": "python",
   "pygments_lexer": "ipython3",
   "version": "3.11.5"
  }
 },
 "nbformat": 4,
 "nbformat_minor": 5
}
