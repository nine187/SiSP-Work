{
 "cells": [
  {
   "cell_type": "code",
   "execution_count": 19,
   "id": "0a976915-9a1d-4918-86ae-0325bac7a30e",
   "metadata": {
    "tags": []
   },
   "outputs": [
    {
     "name": "stdout",
     "output_type": "stream",
     "text": [
      "Name: indra-world\n",
      "Version: 1.1.0\n",
      "Summary: INDRA knowledge assembly generalized to socio-economic systems\n",
      "Home-page: https://github.com/indralab/indra_world\n",
      "Author: Benjamin M. Gyori\n",
      "Author-email: benjamin_gyori@hms.harvard.edu\n",
      "License: \n",
      "Location: C:\\Users\\Lenovo\\anaconda3\\Lib\\site-packages\n",
      "Requires: flask, flask-bootstrap, flask-restx, flask-wtf, gunicorn, indra, openpyxl, pyyaml, sqlalchemy\n",
      "Required-by: \n",
      "Note: you may need to restart the kernel to use updated packages.\n"
     ]
    }
   ],
   "source": [
    "pip show indra_world"
   ]
  },
  {
   "cell_type": "code",
   "execution_count": null,
   "id": "b0046e8a-18f9-491c-a6b6-cab3e794cc6a",
   "metadata": {
    "tags": []
   },
   "outputs": [],
   "source": [
    "from indra_world.sources import trips"
   ]
  },
  {
   "cell_type": "code",
   "execution_count": 87,
   "id": "6ded1692-294e-4518-b5ac-fceff28cedef",
   "metadata": {
    "tags": []
   },
   "outputs": [],
   "source": [
    "model_text = 'MAP2K1 phosphorylates MAPK3 at Thr-202 and Tyr-204'"
   ]
  },
  {
   "cell_type": "code",
   "execution_count": 91,
   "id": "6eb66cf0-e36e-4ad0-b800-c683f42093f9",
   "metadata": {
    "tags": []
   },
   "outputs": [],
   "source": [
    "tp = trips.process_text(model_text)"
   ]
  },
  {
   "cell_type": "code",
   "execution_count": 95,
   "id": "a3c7d22d-1ea2-4e5a-b5e9-fbaf3c4d2801",
   "metadata": {
    "tags": []
   },
   "outputs": [
    {
     "name": "stdout",
     "output_type": "stream",
     "text": [
      "Phosphorylation(MAP2K1(), MAPK3(), T, 202) with evidence \"MAP2K1 phosphorylates MAPK3 at Thr-202 and Tyr-204\"\n",
      "Phosphorylation(MAP2K1(), MAPK3(), Y, 204) with evidence \"MAP2K1 phosphorylates MAPK3 at Thr-202 and Tyr-204\"\n"
     ]
    }
   ],
   "source": [
    "for st in tp.statements:\n",
    "    print('%s with evidence \"%s\"' % (st, st.evidence[0].text))"
   ]
  },
  {
   "cell_type": "code",
   "execution_count": 97,
   "id": "e2004379-564d-4dfd-9797-c97f3583227f",
   "metadata": {
    "tags": []
   },
   "outputs": [
    {
     "data": {
      "text/plain": [
       "[Phosphorylation(MAP2K1(), MAPK3(), T, 202),\n",
       " Phosphorylation(MAP2K1(), MAPK3(), Y, 204)]"
      ]
     },
     "execution_count": 97,
     "metadata": {},
     "output_type": "execute_result"
    }
   ],
   "source": [
    "tp.statements"
   ]
  }
 ],
 "metadata": {
  "kernelspec": {
   "display_name": "Python 3 (ipykernel)",
   "language": "python",
   "name": "python3"
  },
  "language_info": {
   "codemirror_mode": {
    "name": "ipython",
    "version": 3
   },
   "file_extension": ".py",
   "mimetype": "text/x-python",
   "name": "python",
   "nbconvert_exporter": "python",
   "pygments_lexer": "ipython3",
   "version": "3.11.5"
  }
 },
 "nbformat": 4,
 "nbformat_minor": 5
}
