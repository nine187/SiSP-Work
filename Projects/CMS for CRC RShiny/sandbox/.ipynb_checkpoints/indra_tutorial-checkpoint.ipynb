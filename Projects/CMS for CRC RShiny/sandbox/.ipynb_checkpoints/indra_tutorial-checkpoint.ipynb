{
 "cells": [
  {
   "cell_type": "code",
   "execution_count": 1,
   "id": "7d4267fb",
   "metadata": {},
   "outputs": [],
   "source": [
    "#pip show indra"
   ]
  },
  {
   "cell_type": "code",
   "execution_count": 2,
   "id": "2aadcd9c",
   "metadata": {},
   "outputs": [],
   "source": [
    "#conda install conda=24.1.2"
   ]
  },
  {
   "cell_type": "code",
   "execution_count": 29,
   "id": "5521ad8f",
   "metadata": {},
   "outputs": [],
   "source": [
    "from indra.sources import trips\n",
    "from indra.statements import Event\n",
    "from indra.assemblers.pybel.assembler import *"
   ]
  },
  {
   "cell_type": "code",
   "execution_count": 21,
   "id": "29b2b567",
   "metadata": {},
   "outputs": [],
   "source": [
    "model_text = 'MAP2K1 phosphorylates MAPK3 at Thr-202 and Tyr-204'\n",
    "\n",
    "tp = trips.process_text(model_text)"
   ]
  },
  {
   "cell_type": "code",
   "execution_count": 22,
   "id": "57f1ece7-dfe5-4121-bd6e-2b46e148b5d2",
   "metadata": {
    "tags": []
   },
   "outputs": [
    {
     "data": {
      "text/plain": [
       "{'ONT::PHOSPHORYLATION': ['V82709']}"
      ]
     },
     "execution_count": 22,
     "metadata": {},
     "output_type": "execute_result"
    }
   ],
   "source": [
    "tp.all_events"
   ]
  },
  {
   "cell_type": "code",
   "execution_count": 23,
   "id": "825c2849-7238-4629-b3c5-ceff021ade7d",
   "metadata": {},
   "outputs": [
    {
     "name": "stdout",
     "output_type": "stream",
     "text": [
      "Phosphorylation(MAP2K1(), MAPK3(), T, 202) with evidence \"MAP2K1 phosphorylates MAPK3 at Thr-202 and Tyr-204\"\n",
      "Phosphorylation(MAP2K1(), MAPK3(), Y, 204) with evidence \"MAP2K1 phosphorylates MAPK3 at Thr-202 and Tyr-204\"\n"
     ]
    }
   ],
   "source": [
    "for st in tp.statements:\n",
    "    print('%s with evidence \"%s\"' % (st, st.evidence[0].text))"
   ]
  },
  {
   "cell_type": "code",
   "execution_count": 139,
   "id": "ab775ef5-8919-48b5-973b-d96b730d3901",
   "metadata": {
    "tags": []
   },
   "outputs": [],
   "source": [
    "test = Event(concept='CMS1', delta='influence', context='BRAF')"
   ]
  },
  {
   "cell_type": "code",
   "execution_count": 145,
   "id": "b39ed470-9964-4cc8-b1e4-7ac074ae56c8",
   "metadata": {
    "tags": []
   },
   "outputs": [
    {
     "data": {
      "text/plain": [
       "2"
      ]
     },
     "execution_count": 145,
     "metadata": {},
     "output_type": "execute_result"
    }
   ],
   "source": [
    "map2k1 = Agent('MAP2K1', db_refs={'HGNC': '6840'})\n",
    "mapk1 = Agent('MAPK1', db_refs={'HGNC': '6871'})\n",
    "stmt = Phosphorylation(map2k1, mapk1, 'T', '185')\n",
    "pba = PybelAssembler([stmt])\n",
    "belgraph = pba.make_model()\n",
    "sorted(node.as_bel() for node in belgraph)\n",
    "['p(HGNC:6840 ! MAP2K1)', 'p(HGNC:6871 ! MAPK1)', 'p(HGNC:6871 ! MAPK1, pmod(go:0006468 ! \"protein phosphorylation\", Thr, 185))']\n",
    "len(belgraph)\n",
    "belgraph.number_of_edges()"
   ]
  },
  {
   "cell_type": "code",
   "execution_count": 149,
   "id": "4076ccb4-92fd-4ef1-a94a-3b3349fd08fc",
   "metadata": {
    "tags": []
   },
   "outputs": [
    {
     "data": {
      "text/html": [
       "            <h2>Metadata</h2>\n",
       "            <table>\n",
       "<tbody>\n",
       "<tr><td>Name   </td><td>indra                               </td></tr>\n",
       "<tr><td>Version</td><td>13ef54e0-0198-4d60-a0e9-4fefd2331dab</td></tr>\n",
       "</tbody>\n",
       "</table>\n",
       "            <h2>Statistics</h2>\n",
       "            <table>\n",
       "<tbody>\n",
       "<tr><td>Nodes          </td><td style=\"text-align: right;\">3    </td></tr>\n",
       "<tr><td>Namespaces     </td><td style=\"text-align: right;\">2    </td></tr>\n",
       "<tr><td>Edges          </td><td style=\"text-align: right;\">2    </td></tr>\n",
       "<tr><td>Annotations    </td><td style=\"text-align: right;\">3    </td></tr>\n",
       "<tr><td>Citations      </td><td style=\"text-align: right;\">0    </td></tr>\n",
       "<tr><td>Authors        </td><td style=\"text-align: right;\">0    </td></tr>\n",
       "<tr><td>Components     </td><td style=\"text-align: right;\">1    </td></tr>\n",
       "<tr><td>Warnings       </td><td style=\"text-align: right;\">0    </td></tr>\n",
       "<tr><td>Network Density</td><td style=\"text-align: right;\">0.333</td></tr>\n",
       "</tbody>\n",
       "</table>\n",
       "            <h2>Nodes</h2>\n",
       "            <table>\n",
       "<thead>\n",
       "<tr><th>Type   </th><th style=\"text-align: right;\">  Count</th><th>Example                                                                     </th></tr>\n",
       "</thead>\n",
       "<tbody>\n",
       "<tr><td>Protein</td><td style=\"text-align: right;\">      3</td><td>p(HGNC:6871 ! MAPK1, pmod(go:0006468 ! &quot;protein phosphorylation&quot;, Thr, 185))</td></tr>\n",
       "</tbody>\n",
       "</table>\n",
       "            <h2>Namespaces</h2>\n",
       "            <table>\n",
       "<thead>\n",
       "<tr><th>Prefix  </th><th>Name                            </th><th style=\"text-align: right;\">  Count</th><th>Example                                                                     </th></tr>\n",
       "</thead>\n",
       "<tbody>\n",
       "<tr><td>HGNC    </td><td>HUGO Gene Nomenclature Committee</td><td style=\"text-align: right;\">      3</td><td>p(HGNC:6871 ! MAPK1, pmod(go:0006468 ! &quot;protein phosphorylation&quot;, Thr, 185))</td></tr>\n",
       "<tr><td>go      </td><td>Gene Ontology                   </td><td style=\"text-align: right;\">      1</td><td>                                                                            </td></tr>\n",
       "</tbody>\n",
       "</table>\n",
       "            <h2>Edges</h2>\n",
       "            <table>\n",
       "<thead>\n",
       "<tr><th>Edge Type                 </th><th style=\"text-align: right;\">  Count</th><th>Example                                                                                                     </th></tr>\n",
       "</thead>\n",
       "<tbody>\n",
       "<tr><td>Protein increases Protein </td><td style=\"text-align: right;\">      1</td><td>p(HGNC:6840 ! MAP2K1) increases p(HGNC:6871 ! MAPK1, pmod(go:0006468 ! &quot;protein phosphorylation&quot;, Thr, 185))</td></tr>\n",
       "<tr><td>Protein hasVariant Protein</td><td style=\"text-align: right;\">      1</td><td>p(HGNC:6871 ! MAPK1) hasVariant p(HGNC:6871 ! MAPK1, pmod(go:0006468 ! &quot;protein phosphorylation&quot;, Thr, 185))</td></tr>\n",
       "</tbody>\n",
       "</table>\n"
      ],
      "text/plain": [
       "<pybel.struct.graph.BELGraph at 0x1dc6cdfbe90>"
      ]
     },
     "execution_count": 149,
     "metadata": {},
     "output_type": "execute_result"
    }
   ],
   "source": [
    "pba.model"
   ]
  },
  {
   "cell_type": "code",
   "execution_count": 6,
   "id": "4b1d201c-1373-4d32-b0a1-0581646705df",
   "metadata": {
    "tags": []
   },
   "outputs": [
    {
     "name": "stderr",
     "output_type": "stream",
     "text": [
      "WARNING: [2024-03-12 17:18:57] indra.sources.reach.api - Could not import jnius, offline reading option will not be available.\n",
      "INFO: [2024-03-12 17:18:57] indra.sources.reach.api - Loading PMC4636487 from PMC\n",
      "INFO: [2024-03-12 17:19:00] indra.sources.reach.api - Looking up PMID for PMC4636487\n",
      "INFO: [2024-03-12 17:19:02] indra.sources.reach.api - Processing PMC4636487 with REACH\n",
      "INFO: [2024-03-12 17:20:12] indra.ontology.bio.ontology - Loading INDRA bio ontology from cache at C:\\Users\\Lenovo\\.indra\\bio_ontology\\1.33\\bio_ontology.pkl\n"
     ]
    }
   ],
   "source": [
    "from indra.sources import reach\n",
    "reach_processor = reach.process_pmc('PMC4636487') "
   ]
  },
  {
   "cell_type": "code",
   "execution_count": 133,
   "id": "cfd0d7c5-0082-4297-97b5-dab147db77a0",
   "metadata": {
    "tags": []
   },
   "outputs": [
    {
     "ename": "AttributeError",
     "evalue": "'NoneType' object has no attribute 'statements'",
     "output_type": "error",
     "traceback": [
      "\u001b[1;31m---------------------------------------------------------------------------\u001b[0m",
      "\u001b[1;31mAttributeError\u001b[0m                            Traceback (most recent call last)",
      "Cell \u001b[1;32mIn[133], line 1\u001b[0m\n\u001b[1;32m----> 1\u001b[0m \u001b[38;5;28mprint\u001b[39m(reach_processor\u001b[38;5;241m.\u001b[39mstatements)\n",
      "\u001b[1;31mAttributeError\u001b[0m: 'NoneType' object has no attribute 'statements'"
     ]
    }
   ],
   "source": [
    "print(reach_processor.statements)"
   ]
  },
  {
   "cell_type": "code",
   "execution_count": 135,
   "id": "4961f187-9104-4691-907c-a3bc092f6b98",
   "metadata": {
    "tags": []
   },
   "outputs": [
    {
     "ename": "NameError",
     "evalue": "name 'PybelAssembler' is not defined",
     "output_type": "error",
     "traceback": [
      "\u001b[1;31m---------------------------------------------------------------------------\u001b[0m",
      "\u001b[1;31mNameError\u001b[0m                                 Traceback (most recent call last)",
      "Cell \u001b[1;32mIn[135], line 4\u001b[0m\n\u001b[0;32m      2\u001b[0m mapk1 \u001b[38;5;241m=\u001b[39m Agent(\u001b[38;5;124m'\u001b[39m\u001b[38;5;124mMAPK1\u001b[39m\u001b[38;5;124m'\u001b[39m, db_refs\u001b[38;5;241m=\u001b[39m{\u001b[38;5;124m'\u001b[39m\u001b[38;5;124mHGNC\u001b[39m\u001b[38;5;124m'\u001b[39m: \u001b[38;5;124m'\u001b[39m\u001b[38;5;124m6871\u001b[39m\u001b[38;5;124m'\u001b[39m})\n\u001b[0;32m      3\u001b[0m stmt \u001b[38;5;241m=\u001b[39m Phosphorylation(map2k1, mapk1, \u001b[38;5;124m'\u001b[39m\u001b[38;5;124mT\u001b[39m\u001b[38;5;124m'\u001b[39m, \u001b[38;5;124m'\u001b[39m\u001b[38;5;124m185\u001b[39m\u001b[38;5;124m'\u001b[39m)\n\u001b[1;32m----> 4\u001b[0m pba \u001b[38;5;241m=\u001b[39m PybelAssembler([stmt])\n\u001b[0;32m      5\u001b[0m belgraph \u001b[38;5;241m=\u001b[39m pba\u001b[38;5;241m.\u001b[39mmake_model()\n\u001b[0;32m      6\u001b[0m \u001b[38;5;28msorted\u001b[39m(node\u001b[38;5;241m.\u001b[39mas_bel() \u001b[38;5;28;01mfor\u001b[39;00m node \u001b[38;5;129;01min\u001b[39;00m belgraph)\n",
      "\u001b[1;31mNameError\u001b[0m: name 'PybelAssembler' is not defined"
     ]
    }
   ],
   "source": [
    "map2k1 = Agent('MAP2K1', db_refs={'HGNC': '6840'})\n",
    "mapk1 = Agent('MAPK1', db_refs={'HGNC': '6871'})\n",
    "stmt = Phosphorylation(map2k1, mapk1, 'T', '185')\n",
    "pba = PybelAssembler([stmt])\n",
    "belgraph = pba.make_model()\n",
    "sorted(node.as_bel() for node in belgraph)\n",
    "['p(HGNC:6840 ! MAP2K1)', 'p(HGNC:6871 ! MAPK1)', 'p(HGNC:6871 ! MAPK1, pmod(go:0006468 ! \"protein phosphorylation\", Thr, 185))']\n",
    "len(belgraph)\n",
    "belgraph.number_of_edges()"
   ]
  },
  {
   "cell_type": "code",
   "execution_count": 8,
   "id": "472f7b9d-7ef6-434a-b6ca-315afdfaa34b",
   "metadata": {
    "tags": []
   },
   "outputs": [],
   "source": [
    "# list of PMC IDs\n",
    "pmc_ids = ['PMC6040635','PMC4636487', 'PMC9002278','PMC6435314','PMC6040635','PMC6435314', 'PMC6857614', 'PMC5095027', 'PMC5503619',' PMC6675593','PMC8186407','PMC8713413','PMC5922348','PMC5065181','PMC6927316','PMC6617392','PMC8103536','PMC6889398']"
   ]
  },
  {
   "cell_type": "code",
   "execution_count": 9,
   "id": "1336c718-2e0d-4180-bfb5-f6f0373d7cc8",
   "metadata": {},
   "outputs": [
    {
     "name": "stderr",
     "output_type": "stream",
     "text": [
      "INFO: [2024-03-12 17:26:01] indra.sources.reach.api - Loading PMC6040635 from PMC\n",
      "INFO: [2024-03-12 17:26:04] indra.sources.reach.api - Looking up PMID for PMC6040635\n",
      "INFO: [2024-03-12 17:26:09] indra.sources.reach.api - Processing PMC6040635 with REACH\n",
      "INFO: [2024-03-12 17:28:51] indra.sources.reach.api - Loading PMC4636487 from PMC\n",
      "INFO: [2024-03-12 17:28:54] indra.sources.reach.api - Looking up PMID for PMC4636487\n",
      "INFO: [2024-03-12 17:28:56] indra.sources.reach.api - Processing PMC4636487 with REACH\n",
      "INFO: [2024-03-12 17:30:04] indra.sources.reach.api - Loading PMC9002278 from PMC\n",
      "INFO: [2024-03-12 17:30:08] indra.sources.reach.api - Looking up PMID for PMC9002278\n",
      "INFO: [2024-03-12 17:30:11] indra.sources.reach.api - Processing PMC9002278 with REACH\n",
      "INFO: [2024-03-12 17:33:09] indra.sources.reach.api - Loading PMC6435314 from PMC\n",
      "INFO: [2024-03-12 17:33:11] indra.sources.reach.api - Looking up PMID for PMC6435314\n",
      "INFO: [2024-03-12 17:33:13] indra.sources.reach.api - Processing PMC6435314 with REACH\n",
      "INFO: [2024-03-12 17:34:28] indra.sources.reach.api - Loading PMC6040635 from PMC\n",
      "INFO: [2024-03-12 17:34:36] indra.sources.reach.api - Looking up PMID for PMC6040635\n",
      "INFO: [2024-03-12 17:34:40] indra.sources.reach.api - Processing PMC6040635 with REACH\n",
      "INFO: [2024-03-12 17:37:42] indra.sources.reach.api - Loading PMC6435314 from PMC\n",
      "INFO: [2024-03-12 17:37:45] indra.sources.reach.api - Looking up PMID for PMC6435314\n",
      "INFO: [2024-03-12 17:37:49] indra.sources.reach.api - Processing PMC6435314 with REACH\n",
      "INFO: [2024-03-12 17:39:04] indra.sources.reach.api - Loading PMC6857614 from PMC\n",
      "INFO: [2024-03-12 17:39:07] indra.sources.reach.api - Looking up PMID for PMC6857614\n",
      "INFO: [2024-03-12 17:39:10] indra.sources.reach.api - Processing PMC6857614 with REACH\n",
      "INFO: [2024-03-12 17:43:18] indra.sources.reach.api - Loading PMC5095027 from PMC\n",
      "INFO: [2024-03-12 17:43:21] indra.sources.reach.api - Looking up PMID for PMC5095027\n",
      "INFO: [2024-03-12 17:43:23] indra.sources.reach.api - Processing PMC5095027 with REACH\n",
      "INFO: [2024-03-12 17:46:38] indra.sources.reach.api - Loading PMC5503619 from PMC\n",
      "INFO: [2024-03-12 17:46:41] indra.sources.reach.api - Looking up PMID for PMC5503619\n",
      "INFO: [2024-03-12 17:46:43] indra.sources.reach.api - Processing PMC5503619 with REACH\n",
      "INFO: [2024-03-12 17:49:53] indra.sources.reach.api - Loading  PMC6675593 from PMC\n",
      "WARNING: [2024-03-12 17:49:55] indra.literature.pmc_client - PMC client returned with error idDoesNotExist: The value of the identifier argument is unknown or illegal in this repository.\n",
      "INFO: [2024-03-12 17:49:55] indra.sources.reach.api - Loading PMC8186407 from PMC\n",
      "INFO: [2024-03-12 17:49:58] indra.sources.reach.api - Looking up PMID for PMC8186407\n",
      "INFO: [2024-03-12 17:50:00] indra.sources.reach.api - Processing PMC8186407 with REACH\n",
      "ERROR: [2024-03-12 17:52:10] indra.sources.reach.api - Could not process NXML via REACH service.Status code: 500\n",
      "INFO: [2024-03-12 17:52:10] indra.sources.reach.api - Loading PMC8713413 from PMC\n",
      "WARNING: [2024-03-12 17:52:12] indra.literature.pmc_client - PMC client returned with error cannotDisseminateFormat: The metadata format 'pmc' is not supported by the item or by the repository.\n",
      "INFO: [2024-03-12 17:52:12] indra.sources.reach.api - Loading PMC5922348 from PMC\n",
      "INFO: [2024-03-12 17:52:16] indra.sources.reach.api - Looking up PMID for PMC5922348\n",
      "INFO: [2024-03-12 17:52:18] indra.sources.reach.api - Processing PMC5922348 with REACH\n",
      "INFO: [2024-03-12 17:54:35] indra.sources.reach.api - Loading PMC5065181 from PMC\n",
      "WARNING: [2024-03-12 17:54:37] indra.literature.pmc_client - PMC client returned with error cannotDisseminateFormat: The metadata format 'pmc' is not supported by the item or by the repository.\n",
      "INFO: [2024-03-12 17:54:37] indra.sources.reach.api - Loading PMC6927316 from PMC\n",
      "INFO: [2024-03-12 17:54:39] indra.sources.reach.api - Looking up PMID for PMC6927316\n",
      "INFO: [2024-03-12 17:54:43] indra.sources.reach.api - Processing PMC6927316 with REACH\n",
      "INFO: [2024-03-12 17:56:41] indra.sources.reach.api - Loading PMC6617392 from PMC\n",
      "INFO: [2024-03-12 17:56:46] indra.sources.reach.api - Looking up PMID for PMC6617392\n",
      "INFO: [2024-03-12 17:56:48] indra.sources.reach.api - Processing PMC6617392 with REACH\n",
      "INFO: [2024-03-12 18:00:44] indra.sources.reach.api - Loading PMC8103536 from PMC\n",
      "INFO: [2024-03-12 18:00:47] indra.sources.reach.api - Looking up PMID for PMC8103536\n",
      "INFO: [2024-03-12 18:00:52] indra.sources.reach.api - Processing PMC8103536 with REACH\n",
      "INFO: [2024-03-12 18:01:44] indra.sources.reach.api - Loading PMC6889398 from PMC\n",
      "INFO: [2024-03-12 18:01:47] indra.sources.reach.api - Looking up PMID for PMC6889398\n",
      "INFO: [2024-03-12 18:01:51] indra.sources.reach.api - Processing PMC6889398 with REACH\n"
     ]
    }
   ],
   "source": [
    "# initialize an empty list to store the processed results\n",
    "processed_results = []\n",
    "\n",
    "# loop through each PMC ID and process it with Reach\n",
    "for pmc_id in pmc_ids:\n",
    "    reach_processor = reach.process_pmc(pmc_id)\n",
    "    processed_results.append(reach_processor)"
   ]
  },
  {
   "cell_type": "code",
   "execution_count": 13,
   "id": "3018a89e-0316-4480-ba42-9b8b1e7c9ad5",
   "metadata": {
    "tags": []
   },
   "outputs": [
    {
     "data": {
      "text/plain": [
       "[<indra.sources.reach.processor.ReachProcessor at 0x1db220625d0>,\n",
       " <indra.sources.reach.processor.ReachProcessor at 0x1db222fc250>,\n",
       " <indra.sources.reach.processor.ReachProcessor at 0x1dc89b20d90>,\n",
       " <indra.sources.reach.processor.ReachProcessor at 0x1dc64187c50>,\n",
       " <indra.sources.reach.processor.ReachProcessor at 0x1dc64187f90>,\n",
       " <indra.sources.reach.processor.ReachProcessor at 0x1dc64185f10>,\n",
       " <indra.sources.reach.processor.ReachProcessor at 0x1db22062d90>,\n",
       " <indra.sources.reach.processor.ReachProcessor at 0x1dc89b43890>,\n",
       " <indra.sources.reach.processor.ReachProcessor at 0x1dc64c2f250>,\n",
       " None,\n",
       " None,\n",
       " None,\n",
       " <indra.sources.reach.processor.ReachProcessor at 0x1dc649a3d50>,\n",
       " None,\n",
       " <indra.sources.reach.processor.ReachProcessor at 0x1dc64187810>,\n",
       " <indra.sources.reach.processor.ReachProcessor at 0x1db222fb710>,\n",
       " <indra.sources.reach.processor.ReachProcessor at 0x1dc644efb10>,\n",
       " <indra.sources.reach.processor.ReachProcessor at 0x1dc64c4f610>]"
      ]
     },
     "execution_count": 13,
     "metadata": {},
     "output_type": "execute_result"
    }
   ],
   "source": [
    "processed_results"
   ]
  },
  {
   "cell_type": "code",
   "execution_count": 29,
   "id": "378b9ef8-f89f-4ca3-b5f7-c26ae7745f85",
   "metadata": {
    "tags": []
   },
   "outputs": [
    {
     "name": "stdout",
     "output_type": "stream",
     "text": [
      "[Activation(oxaliplatin(), RFS()), Inhibition(STAT3(), CD274()), Inhibition(STAT3(), IDO1())]\n",
      "[Activation(oxaliplatin(), RFS()), Inhibition(STAT3(), CD274()), Inhibition(STAT3(), IDO1())]\n",
      "[Activation(oxaliplatin(), RFS()), Inhibition(STAT3(), CD274()), Inhibition(STAT3(), IDO1())]\n",
      "[Inhibition(PTEN(), AKT1(muts: (None, None, None)))]\n",
      "[Inhibition(PTEN(), AKT1(muts: (None, None, None)))]\n"
     ]
    },
    {
     "ename": "AttributeError",
     "evalue": "'NoneType' object has no attribute 'statements'",
     "output_type": "error",
     "traceback": [
      "\u001b[1;31m---------------------------------------------------------------------------\u001b[0m",
      "\u001b[1;31mAttributeError\u001b[0m                            Traceback (most recent call last)",
      "Cell \u001b[1;32mIn[29], line 2\u001b[0m\n\u001b[0;32m      1\u001b[0m \u001b[38;5;28;01mfor\u001b[39;00m result \u001b[38;5;129;01min\u001b[39;00m processed_results:\n\u001b[1;32m----> 2\u001b[0m     \u001b[38;5;28;01mfor\u001b[39;00m statement \u001b[38;5;129;01min\u001b[39;00m result\u001b[38;5;241m.\u001b[39mstatements:\n\u001b[0;32m      3\u001b[0m         \u001b[38;5;28mprint\u001b[39m(result\u001b[38;5;241m.\u001b[39mstatements)\n",
      "\u001b[1;31mAttributeError\u001b[0m: 'NoneType' object has no attribute 'statements'"
     ]
    }
   ],
   "source": [
    "for result in processed_results:\n",
    "    for statement in result.statements:\n",
    "        print(result.statements)"
   ]
  },
  {
   "cell_type": "code",
   "execution_count": 25,
   "id": "c2a67933-e29a-4ff8-89d7-e2a660070cf1",
   "metadata": {
    "tags": []
   },
   "outputs": [
    {
     "data": {
      "text/plain": [
       "[]"
      ]
     },
     "execution_count": 25,
     "metadata": {},
     "output_type": "execute_result"
    }
   ],
   "source": []
  },
  {
   "cell_type": "code",
   "execution_count": null,
   "id": "0837895e-837e-4ff9-8bc8-ffe78fbbd3ac",
   "metadata": {},
   "outputs": [],
   "source": []
  }
 ],
 "metadata": {
  "kernelspec": {
   "display_name": "Python 3 (ipykernel)",
   "language": "python",
   "name": "python3"
  },
  "language_info": {
   "codemirror_mode": {
    "name": "ipython",
    "version": 3
   },
   "file_extension": ".py",
   "mimetype": "text/x-python",
   "name": "python",
   "nbconvert_exporter": "python",
   "pygments_lexer": "ipython3",
   "version": "3.11.5"
  }
 },
 "nbformat": 4,
 "nbformat_minor": 5
}
